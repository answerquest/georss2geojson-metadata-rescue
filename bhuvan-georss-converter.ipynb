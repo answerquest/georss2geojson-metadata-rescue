{
 "cells": [
  {
   "cell_type": "markdown",
   "metadata": {},
   "source": [
    "# GeoRSS xml format to GeoJSON conversion, \n",
    "## with metadata rescue\n",
    "\n",
    "by Nikhil VJ, http://nikhilvj.co.in  \n",
    "28 October 2018\n",
    "\n",
    "- Made specifically to handle georss (.xml) downloads from Bhuvan\n",
    "- Parses the metadata trapped in HTML description\n",
    "- Tested to work with points, polygons, lines, and can handle a file that mixes these\n",
    "- Does \"right hand rule\" fix for polygons (see https://mapster.me/right-hand-rule-geojson-fixer/)\n",
    "- Saves an extra CSV with the metadata neatly laid out\n",
    "- Saves numerical metadata as number instead of string, this helps when you want to render features based on the numbers (example: choropleth maps). Can recognise numbers like \"-3.43e-4\"\n",
    "- Gets rid of an html whitespace (\\xa0) encountered in metadata in one file\n",
    "\n",
    "modules you'll need:  \n",
    "`feedparser geojson geojson_utils pandas bs4 lxml`"
   ]
  },
  {
   "cell_type": "code",
   "execution_count": 1,
   "metadata": {},
   "outputs": [],
   "source": [
    "import feedparser\n",
    "import geojson, geojson_utils\n",
    "import pandas as pd\n",
    "from collections import OrderedDict\n",
    "from bs4 import BeautifulSoup"
   ]
  },
  {
   "cell_type": "code",
   "execution_count": 2,
   "metadata": {},
   "outputs": [],
   "source": [
    "# make sure your xml is there in the same folder\n",
    "file2 = 'asi-BLR_004_100M.xml' # polygon\n",
    "file3 = 'asi-monuments2.xml' # points\n",
    "file4 = 'asi-devanahallifort_LN.xml' # lines\n",
    "file5 = 'basemap-MH_Vill.xml' # large, polygons"
   ]
  },
  {
   "cell_type": "code",
   "execution_count": 3,
   "metadata": {},
   "outputs": [
    {
     "data": {
      "text/plain": [
       "'asi-BLR_004_100M'"
      ]
     },
     "execution_count": 3,
     "metadata": {},
     "output_type": "execute_result"
    }
   ],
   "source": [
    "filename = file2[:-4]\n",
    "filename"
   ]
  },
  {
   "cell_type": "code",
   "execution_count": 4,
   "metadata": {},
   "outputs": [],
   "source": [
    "d = feedparser.parse(file2)\n",
    "# feedparser does most of the grunt work. converts georss objects into geojson objects,\n",
    "# which can be handled by the geojson module"
   ]
  },
  {
   "cell_type": "code",
   "execution_count": 5,
   "metadata": {},
   "outputs": [
    {
     "name": "stdout",
     "output_type": "stream",
     "text": [
      "Number of shapes in this file: 1\n"
     ]
    }
   ],
   "source": [
    "print('Number of shapes in this file:',len(d.entries) )"
   ]
  },
  {
   "cell_type": "markdown",
   "metadata": {},
   "source": [
    "## R & D"
   ]
  },
  {
   "cell_type": "code",
   "execution_count": 6,
   "metadata": {
    "scrolled": true
   },
   "outputs": [],
   "source": [
    "# d.entries[0]"
   ]
  },
  {
   "cell_type": "code",
   "execution_count": 7,
   "metadata": {
    "scrolled": true
   },
   "outputs": [],
   "source": [
    "# d.entries[0].where"
   ]
  },
  {
   "cell_type": "code",
   "execution_count": 8,
   "metadata": {},
   "outputs": [],
   "source": [
    "# d.entries[0].where.coordinates"
   ]
  },
  {
   "cell_type": "code",
   "execution_count": 9,
   "metadata": {},
   "outputs": [],
   "source": [
    "# area.. from https://github.com/brandonxiang/geojson-python-utils\n",
    "# only to be done in case of polygon\n",
    "# if d.entries[0].where.type == 'Polygon':\n",
    "#    geojson_utils.area(d.entries[0].where)"
   ]
  },
  {
   "cell_type": "code",
   "execution_count": 10,
   "metadata": {
    "scrolled": true
   },
   "outputs": [],
   "source": [
    "# geojson.Polygon(d.entries[0].where.coordinates)"
   ]
  },
  {
   "cell_type": "code",
   "execution_count": 11,
   "metadata": {},
   "outputs": [],
   "source": [
    "# geojson_utils.area(geojson.Polygon(d.entries[0].where.coordinates))"
   ]
  },
  {
   "cell_type": "code",
   "execution_count": 12,
   "metadata": {},
   "outputs": [],
   "source": [
    "# pgon = geojson.Polygon(d.entries[0].where.coordinates)"
   ]
  },
  {
   "cell_type": "code",
   "execution_count": 13,
   "metadata": {},
   "outputs": [],
   "source": [
    "# if pgon.type == 'Polygon': print('yay')"
   ]
  },
  {
   "cell_type": "code",
   "execution_count": 14,
   "metadata": {},
   "outputs": [],
   "source": [
    "# geojson.Feature(geometry=pgon, properties={\"country\": \"Spain\"})  "
   ]
  },
  {
   "cell_type": "code",
   "execution_count": 15,
   "metadata": {},
   "outputs": [],
   "source": [
    "# d.entries[0].summary"
   ]
  },
  {
   "cell_type": "code",
   "execution_count": 16,
   "metadata": {},
   "outputs": [],
   "source": [
    "# cleaning out \\xa0 garbage chars\n",
    "# d.entries[0].summary = d.entries[0].summary.replace('\\xa0', \"\")"
   ]
  },
  {
   "cell_type": "code",
   "execution_count": 17,
   "metadata": {},
   "outputs": [],
   "source": [
    "# its html. so lets use BeautifulSoup to scrape through it\n",
    "# soup =  BeautifulSoup(d.entries[0].summary,'lxml')\n",
    "# soup"
   ]
  },
  {
   "cell_type": "code",
   "execution_count": 18,
   "metadata": {},
   "outputs": [],
   "source": [
    "# meta = soup.select('span')\n",
    "# for n in range(int(len(meta)/2)):\n",
    "#    # print(n)\n",
    "#    print(meta[n*2].text, meta[n*2+1].text )"
   ]
  },
  {
   "cell_type": "code",
   "execution_count": 19,
   "metadata": {},
   "outputs": [],
   "source": [
    "# get these into the properties, along with the title"
   ]
  },
  {
   "cell_type": "code",
   "execution_count": 20,
   "metadata": {},
   "outputs": [],
   "source": [
    "# d.entries[0].title"
   ]
  },
  {
   "cell_type": "code",
   "execution_count": 21,
   "metadata": {},
   "outputs": [],
   "source": [
    "# props = {'title': d.entries[0].title}"
   ]
  },
  {
   "cell_type": "code",
   "execution_count": 22,
   "metadata": {},
   "outputs": [],
   "source": [
    "# for n in range(int(len(meta)/2)):\n",
    "#    props[meta[n*2].text] = meta[n*2+1].text"
   ]
  },
  {
   "cell_type": "code",
   "execution_count": 23,
   "metadata": {},
   "outputs": [],
   "source": [
    "# props"
   ]
  },
  {
   "cell_type": "code",
   "execution_count": 24,
   "metadata": {},
   "outputs": [],
   "source": [
    "#geojson.Feature(geometry=d.entries[0].where, properties=props)"
   ]
  },
  {
   "cell_type": "code",
   "execution_count": 25,
   "metadata": {},
   "outputs": [],
   "source": [
    "# feat1 = geojson.Feature(geometry=d.entries[0].where, properties=props)"
   ]
  },
  {
   "cell_type": "code",
   "execution_count": 26,
   "metadata": {},
   "outputs": [],
   "source": [
    "# geojson.FeatureCollection([feat1])"
   ]
  },
  {
   "cell_type": "code",
   "execution_count": 27,
   "metadata": {},
   "outputs": [],
   "source": [
    "# geojson.dumps(geojson.FeatureCollection([feat1]))"
   ]
  },
  {
   "cell_type": "code",
   "execution_count": 28,
   "metadata": {},
   "outputs": [],
   "source": [
    "# yesss that's the desired output!"
   ]
  },
  {
   "cell_type": "markdown",
   "metadata": {},
   "source": [
    "## functions"
   ]
  },
  {
   "cell_type": "code",
   "execution_count": 29,
   "metadata": {},
   "outputs": [
    {
     "name": "stdout",
     "output_type": "stream",
     "text": [
      "test:\n",
      "34 <class 'int'>\n",
      "3.5643 <class 'float'>\n",
      "30000000.0 <class 'float'>\n",
      "3430.0 <class 'float'>\n",
      "0.00343 <class 'float'>\n",
      "3-3 <class 'str'>\n"
     ]
    }
   ],
   "source": [
    "def checkNumber(value):\n",
    "    if not isinstance(value, str): return value\n",
    "    # idiot-proofing: if its not a string to begin with, return unopened\n",
    "    \n",
    "    if value.lower().replace('.','',1).replace('e','',1).replace('-','',2).isdigit():\n",
    "        # can recognize numbers like -3.4e-4\n",
    "        try:\n",
    "            if value.isdigit(): value = int(value)\n",
    "            else: value = float(value)\n",
    "        except ValueError as e:\n",
    "            pass\n",
    "    return value\n",
    "\n",
    "# PS: Yes yes this will trip up with false positives like '.e--3'.\n",
    "# so putting in a try-except block. \n",
    "# If nothing works out, returns the original string\n",
    "print('test:')\n",
    "print(checkNumber('34'), type(checkNumber('34')))\n",
    "print(checkNumber('3.5643'), type(checkNumber('3.5643')))\n",
    "print(checkNumber('3e7'), type(checkNumber('3e7')))\n",
    "print(checkNumber('3.43e3'), type(checkNumber('3.43e3')))\n",
    "print(checkNumber('3.43e-3'), type(checkNumber('3.43e-3')))\n",
    "print(checkNumber('3-3'), type(checkNumber('3-3')))"
   ]
  },
  {
   "cell_type": "markdown",
   "metadata": {},
   "source": [
    "## Loop through the shapes\n",
    "GeoJSON features collected in list \"collector\""
   ]
  },
  {
   "cell_type": "code",
   "execution_count": 30,
   "metadata": {
    "scrolled": true
   },
   "outputs": [],
   "source": [
    "collector = []\n",
    "count = 0\n",
    "for entry in d.entries:\n",
    "    if count % 100 == 1: print(count,'shapes processed.')\n",
    "\n",
    "    props = OrderedDict({'title': entry.title})\n",
    "    \n",
    "    # breaking up the HTML-i-fied description into properties metadata\n",
    "    htmlBlock = entry.summary.replace('\\xa0', \"\")\n",
    "    # \\xa0 : html whitespace char that was cropping up. So zapped it.\n",
    "    soup =  BeautifulSoup(htmlBlock,'lxml')\n",
    "    meta = soup.select('span')\n",
    "    for n in range(int(len(meta)/2)):\n",
    "        key = meta[n*2].text\n",
    "        value = meta[n*2+1].text\n",
    "        \n",
    "        # eval to float or int if the string is number\n",
    "        value = checkNumber(value)\n",
    "        props[key] = value\n",
    "    \n",
    "    # print(props)\n",
    "    \n",
    "    # Right hand rule fix: if co-ords are in reversed order, then area is calculated negative\n",
    "    # area.. from https://github.com/brandonxiang/geojson-python-utils\n",
    "    if entry.where.type == 'Polygon':\n",
    "        # only do for Polygon. \n",
    "        area = geojson_utils.area(entry.where)\n",
    "        if area < 0:\n",
    "            # co-ordinates: reverse the order\n",
    "            entry.where.coordinates[0].reverse()\n",
    "            # print('after reversing, new area:', geojson_utils.area(entry.where))\n",
    "    \n",
    "    count +=1\n",
    "    collector.append( geojson.Feature(geometry=entry.where, properties=props, id=count) )\n",
    "    # geojson Feature is created here by bringing together :\n",
    "    # the geometry, which was already processed into geojson form by feedparser,\n",
    "    # the properties, which most of this loop was processing out from the html block under \"summary\"\n",
    "    # optionally, an id. Using it here because in some shapes the title was non-unique, and ..\n",
    "    # ...good to have a primary key to tie this to the CSV also being made."
   ]
  },
  {
   "cell_type": "markdown",
   "metadata": {},
   "source": [
    "## geojson\n",
    "Create FeatureCollection and 'dump' as a geojson file"
   ]
  },
  {
   "cell_type": "code",
   "execution_count": 31,
   "metadata": {},
   "outputs": [],
   "source": [
    "with open(filename+'.geojson','w') as f:\n",
    "    f.write( geojson.dumps(geojson.FeatureCollection(collector), indent=2 ) )"
   ]
  },
  {
   "cell_type": "markdown",
   "metadata": {},
   "source": [
    "## saving the same as CSV table too"
   ]
  },
  {
   "cell_type": "code",
   "execution_count": 32,
   "metadata": {},
   "outputs": [],
   "source": [
    "dfCollector = []\n",
    "for x in collector:\n",
    "    row = OrderedDict({'id':x.id})\n",
    "    row.update(x.properties)\n",
    "    row['geometry_type'] = x.geometry.type\n",
    "    \n",
    "    # optional: comment out below lines if you don't want to export the geometry ie list of latlongs in CSV\n",
    "    row['geometry_coordinates'] = geojson.dumps(x.geometry.coordinates)\n",
    "    \n",
    "    # Extra: if it's point coords, then make in lat and long columns so that the CSV is easily mappable in geojson.io, google my maps etc\n",
    "    if row['geometry_type'] == 'Point':\n",
    "        row['latitude'] = x.geometry.coordinates[1]\n",
    "        row['longitude'] = x.geometry.coordinates[0]\n",
    "    \n",
    "    dfCollector.append(row)"
   ]
  },
  {
   "cell_type": "code",
   "execution_count": 33,
   "metadata": {},
   "outputs": [
    {
     "data": {
      "text/html": [
       "<div>\n",
       "<style scoped>\n",
       "    .dataframe tbody tr th:only-of-type {\n",
       "        vertical-align: middle;\n",
       "    }\n",
       "\n",
       "    .dataframe tbody tr th {\n",
       "        vertical-align: top;\n",
       "    }\n",
       "\n",
       "    .dataframe thead th {\n",
       "        text-align: right;\n",
       "    }\n",
       "</style>\n",
       "<table border=\"1\" class=\"dataframe\">\n",
       "  <thead>\n",
       "    <tr style=\"text-align: right;\">\n",
       "      <th></th>\n",
       "      <th>title</th>\n",
       "      <th>Name</th>\n",
       "      <th>Shape_Leng</th>\n",
       "      <th>Shape_Area</th>\n",
       "      <th>MON_NO</th>\n",
       "      <th>No_</th>\n",
       "      <th>monumentna</th>\n",
       "      <th>MON_NUM</th>\n",
       "      <th>Location</th>\n",
       "      <th>District</th>\n",
       "      <th>BUFF_DIST</th>\n",
       "      <th>geometry_type</th>\n",
       "      <th>geometry_coordinates</th>\n",
       "    </tr>\n",
       "    <tr>\n",
       "      <th>id</th>\n",
       "      <th></th>\n",
       "      <th></th>\n",
       "      <th></th>\n",
       "      <th></th>\n",
       "      <th></th>\n",
       "      <th></th>\n",
       "      <th></th>\n",
       "      <th></th>\n",
       "      <th></th>\n",
       "      <th></th>\n",
       "      <th></th>\n",
       "      <th></th>\n",
       "      <th></th>\n",
       "    </tr>\n",
       "  </thead>\n",
       "  <tbody>\n",
       "    <tr>\n",
       "      <th>1</th>\n",
       "      <td>BLR_004_100M.1</td>\n",
       "      <td>BLR_004</td>\n",
       "      <td>0.010207</td>\n",
       "      <td>0.000007</td>\n",
       "      <td>4</td>\n",
       "      <td>4.0</td>\n",
       "      <td>Fort</td>\n",
       "      <td>4</td>\n",
       "      <td>Devanahalli</td>\n",
       "      <td>Bangalore</td>\n",
       "      <td>100.0</td>\n",
       "      <td>Polygon</td>\n",
       "      <td>[[[77.71140589580278, 13.250946251295886], [77...</td>\n",
       "    </tr>\n",
       "  </tbody>\n",
       "</table>\n",
       "</div>"
      ],
      "text/plain": [
       "             title     Name  Shape_Leng  Shape_Area  MON_NO  No_ monumentna  \\\n",
       "id                                                                            \n",
       "1   BLR_004_100M.1  BLR_004    0.010207    0.000007       4  4.0       Fort   \n",
       "\n",
       "    MON_NUM     Location   District  BUFF_DIST geometry_type  \\\n",
       "id                                                             \n",
       "1         4  Devanahalli  Bangalore      100.0       Polygon   \n",
       "\n",
       "                                 geometry_coordinates  \n",
       "id                                                     \n",
       "1   [[[77.71140589580278, 13.250946251295886], [77...  "
      ]
     },
     "execution_count": 33,
     "metadata": {},
     "output_type": "execute_result"
    }
   ],
   "source": [
    "df = pd.DataFrame(dfCollector).set_index('id')\n",
    "df.head()"
   ]
  },
  {
   "cell_type": "code",
   "execution_count": 34,
   "metadata": {},
   "outputs": [],
   "source": [
    "# df.iloc[0]['geometry_coordinates']\n",
    "# confirming it's stored as a string"
   ]
  },
  {
   "cell_type": "code",
   "execution_count": 35,
   "metadata": {},
   "outputs": [],
   "source": [
    "df.to_csv(filename+'.csv')\n",
    "\n",
    "# saving out to a CSV. Metadata can be easily analysed here\n",
    "# and if its a point locations file then even the CSV can directly be mapped"
   ]
  },
  {
   "cell_type": "code",
   "execution_count": 36,
   "metadata": {},
   "outputs": [
    {
     "data": {
      "text/plain": [
       "Index(['title', 'Name', 'Shape_Leng', 'Shape_Area', 'MON_NO', 'No_',\n",
       "       'monumentna', 'MON_NUM', 'Location', 'District', 'BUFF_DIST',\n",
       "       'geometry_type', 'geometry_coordinates'],\n",
       "      dtype='object')"
      ]
     },
     "execution_count": 36,
     "metadata": {},
     "output_type": "execute_result"
    }
   ],
   "source": [
    "df.columns"
   ]
  },
  {
   "cell_type": "code",
   "execution_count": 37,
   "metadata": {},
   "outputs": [
    {
     "data": {
      "text/plain": [
       "['Name',\n",
       " 'Shape_Leng',\n",
       " 'Shape_Area',\n",
       " 'MON_NO',\n",
       " 'No_',\n",
       " 'monumentna',\n",
       " 'MON_NUM',\n",
       " 'Location',\n",
       " 'District',\n",
       " 'BUFF_DIST']"
      ]
     },
     "execution_count": 37,
     "metadata": {},
     "output_type": "execute_result"
    }
   ],
   "source": [
    "metaFields = [ x for x in list(df.columns) if x not in ['title','geometry_type','geometry_coordinates','latitude','longitude']]\n",
    "metaFields"
   ]
  },
  {
   "cell_type": "code",
   "execution_count": null,
   "metadata": {},
   "outputs": [],
   "source": []
  }
 ],
 "metadata": {
  "kernelspec": {
   "display_name": "Python 3",
   "language": "python",
   "name": "python3"
  },
  "language_info": {
   "codemirror_mode": {
    "name": "ipython",
    "version": 3
   },
   "file_extension": ".py",
   "mimetype": "text/x-python",
   "name": "python",
   "nbconvert_exporter": "python",
   "pygments_lexer": "ipython3",
   "version": "3.6.5"
  }
 },
 "nbformat": 4,
 "nbformat_minor": 2
}
